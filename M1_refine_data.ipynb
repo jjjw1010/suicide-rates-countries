{
 "cells": [
  {
   "cell_type": "code",
   "execution_count": 1,
   "metadata": {},
   "outputs": [],
   "source": [
    "import pandas as pd\n",
    "df = pd.read_csv('data/SDGSUICIDE.csv')"
   ]
  },
  {
   "cell_type": "code",
   "execution_count": 2,
   "metadata": {},
   "outputs": [],
   "source": [
    "# Prints the Headers\n",
    "# print(df.info())"
   ]
  },
  {
   "cell_type": "code",
   "execution_count": 3,
   "metadata": {},
   "outputs": [],
   "source": [
    "# Identify indices of rows to keep\n",
    "# Only including record w/ both sex and all age group\n",
    "df = df[~df['DisaggregatingDimension1ValueCode'].isin(['SEX_FMLE', 'SEX_MLE'])]\n",
    "df = df[df['DisaggregatingDimension2ValueCode'].isin(['AGEGROUP_YEARSALL'])]\n",
    "df = df[~df['SpatialDimensionValueCode'].isin(['GLOBAL'])]\n",
    "\n",
    "# List of columns to drop\n",
    "columns_to_drop = [\n",
    "    'IndicatorCode',\n",
    "    'DisaggregatingDimension1',\n",
    "    'DisaggregatingDimension1ValueCode',\n",
    "    'DisaggregatingDimension2',\n",
    "    'DisaggregatingDimension2ValueCode',\n",
    "    'DisaggregatingDimension3',\n",
    "    'DisaggregatingDimension3ValueCode',\n",
    "    'DataSourceDimension',\n",
    "    'DataSourceDimensionValueCode',\n",
    "    'Comments',\n",
    "    'TimeDimensionBegin',\n",
    "    'TimeDimensionEnd',\n",
    "    'Value',\n",
    "    'Low',\n",
    "    'High',\n",
    "    'Date',\n",
    "    'TimeDimensionValue',\n",
    "    'TimeDimension',\n",
    "    'Id',\n",
    "    'ParentLocation',\n",
    "    'ParentLocationCode',\n",
    "    'SpatialDimension',\n",
    "]\n",
    "\n",
    "# Drop the specified columns\n",
    "df_cleaned = df.drop(columns=columns_to_drop)\n",
    "\n",
    "# Save the cleaned dataframe to a new CSV file\n",
    "df_cleaned.to_csv('data/SDGSUICIDE_cleaned.csv', index=False)"
   ]
  },
  {
   "cell_type": "code",
   "execution_count": 4,
   "metadata": {},
   "outputs": [],
   "source": [
    "# Load your CSV file into a dataframe\n",
    "df = pd.read_csv('data/SDGSUICIDE_cleaned.csv')\n",
    "\n",
    "# Convert 'TimeDim' to datetime, assuming the format is '%Y'\n",
    "df['TimeDim'] = pd.to_datetime(df['TimeDim'], format='%Y', errors='coerce').dt.year\n",
    "\n",
    "# Sort by 'SpatialDimensionValueCode' (Country) and 'TimeDim' (Year)\n",
    "df_sorted = df.sort_values(by=['SpatialDimensionValueCode', 'TimeDim'], ascending=[True, True])\n",
    "\n",
    "# Save the sorted dataframe to a new CSV file\n",
    "df_sorted.to_csv('data/SDGSUICIDE_sorted.csv', index=False)"
   ]
  },
  {
   "cell_type": "code",
   "execution_count": 5,
   "metadata": {},
   "outputs": [
    {
     "name": "stdout",
     "output_type": "stream",
     "text": [
      "Out of 233 countries, my dataset is missing 48 countries.\n"
     ]
    }
   ],
   "source": [
    "# Load the COUNTRY.csv file\n",
    "df_country = pd.read_csv('data/COUNTRY.csv')\n",
    "\n",
    "# Load the SDGSUICIDE_sorted.csv file\n",
    "df_sorted = pd.read_csv('data/SDGSUICIDE_sorted.csv')\n",
    "\n",
    "\n",
    "# Ensure the 'COUNTRY' column is of type string\n",
    "df_country['Code'] = df_country['Code'].astype(str)\n",
    "df_sorted['SpatialDimensionValueCode'] = df_sorted['SpatialDimensionValueCode'].astype(str)\n",
    "\n",
    "# Find countries not in df_sorted but in df_country\n",
    "missing_countries = df_country[~df_country['Code'].isin(df_sorted['SpatialDimensionValueCode'])]['Title'].unique()\n",
    "# print(missing_countries) \n",
    "\n",
    "# # Find countries in df_sorted and df_country\n",
    "# countries = df_country[df_country['Code'].isin(df_sorted['SpatialDimensionValueCode'])]['Title'].unique()\n",
    "# dataset_countries_code = df_sorted['SpatialDimensionValueCode'].unique()\n",
    "# print(countries)\n",
    "\n",
    "print(f\"Out of {len(df_country)} countries, my dataset is missing {len(missing_countries)} countries.\")"
   ]
  }
 ],
 "metadata": {
  "kernelspec": {
   "display_name": "Python 3",
   "language": "python",
   "name": "python3"
  },
  "language_info": {
   "codemirror_mode": {
    "name": "ipython",
    "version": 3
   },
   "file_extension": ".py",
   "mimetype": "text/x-python",
   "name": "python",
   "nbconvert_exporter": "python",
   "pygments_lexer": "ipython3",
   "version": "3.13.2"
  }
 },
 "nbformat": 4,
 "nbformat_minor": 2
}
