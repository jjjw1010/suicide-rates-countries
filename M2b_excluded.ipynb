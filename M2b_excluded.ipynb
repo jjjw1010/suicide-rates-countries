{
 "cells": [
  {
   "cell_type": "code",
   "execution_count": 1,
   "metadata": {},
   "outputs": [],
   "source": [
    "import pandas as pd"
   ]
  },
  {
   "cell_type": "code",
   "execution_count": 9,
   "metadata": {},
   "outputs": [
    {
     "name": "stdout",
     "output_type": "stream",
     "text": [
      "Missing countries from dataset are...\n",
      "Aruba | Anguilla | Andorra | American Samoa | Bonaire, Saint Eustatius and Saba | Bermuda | Channel islands | Cook Islands | Curaçao | Cayman Islands | Dominica | Falkland Islands (Malvinas) | Faroe Islands | Gibraltar | Guadeloupe | Greenland | French Guiana | Guam | China, Hong Kong Special Administrative Region | Isle of Man | Saint Kitts and Nevis | Liechtenstein | China, Macao Special Administrative Region | Monaco | The former state union Serbia and Montenegro | Marshall Islands | Northern Mariana Islands | Montserrat | Martinique | Mayotte | New Caledonia | Niue | Nauru | Palau | French Polynesia | Reunion | Sudan (former) | Saint Helena | San Marino | Saint Pierre and Miquelon | Sint Maarten (Dutch part) | Turks and Caicos Islands | Tokelau | Tuvalu | British Virgin Islands | Virgin Islands (USA) | Wallis and Futuna Islands | Kosovo (in accordance with UN Security Council resolution 1244 (1999))\n",
      "Out of 233 countries, my dataset is missing 48 countries.\n"
     ]
    }
   ],
   "source": [
    "# Load the COUNTRY.csv file\n",
    "df_country = pd.read_csv('data/COUNTRY.csv')\n",
    "\n",
    "# Load the SDGSUICIDE_sorted.csv file\n",
    "df_sorted = pd.read_csv('data/SDGSUICIDE_sorted.csv')\n",
    "\n",
    "# Ensure the 'COUNTRY' column is of type string\n",
    "df_country['Code'] = df_country['Code'].astype(str)\n",
    "df_sorted['SpatialDimensionValueCode'] = df_sorted['SpatialDimensionValueCode'].astype(str)\n",
    "\n",
    "# Find countries not in df_sorted but in df_country\n",
    "# missing_countries = df_country[]\n",
    "missing_countries = df_country[~df_country['Code'].isin(df_sorted['SpatialDimensionValueCode'])]['Title'].unique()\n",
    "print(\"Missing countries from dataset are...\")\n",
    "print(' | '.join(missing_countries)) \n",
    "\n",
    "# # Find countries in df_sorted and df_country\n",
    "# countries = df_country[df_country['Code'].isin(df_sorted['SpatialDimensionValueCode'])]['Title'].unique()\n",
    "# dataset_countries_code = df_sorted['SpatialDimensionValueCode'].unique()\n",
    "# print(countries)\n",
    "\n",
    "# # Find countries in df_sorted but not in df_country\n",
    "# missing_s_countries = df_sorted[~df_sorted['SpatialDimensionValueCode'].isin(df_country['Code'])]['SpatialDimensionValueCode'].unique()\n",
    "# dataset_countries_code = df_sorted['SpatialDimensionValueCode'].unique()\n",
    "# print(missing_s_countries)\n",
    "\n",
    "print(f\"Out of {len(df_country)} countries, my dataset is missing {len(missing_countries)} countries.\")"
   ]
  }
 ],
 "metadata": {
  "kernelspec": {
   "display_name": "Python 3",
   "language": "python",
   "name": "python3"
  },
  "language_info": {
   "codemirror_mode": {
    "name": "ipython",
    "version": 3
   },
   "file_extension": ".py",
   "mimetype": "text/x-python",
   "name": "python",
   "nbconvert_exporter": "python",
   "pygments_lexer": "ipython3",
   "version": "3.13.2"
  }
 },
 "nbformat": 4,
 "nbformat_minor": 2
}
