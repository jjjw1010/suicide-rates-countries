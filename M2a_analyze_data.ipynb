{
 "cells": [
  {
   "cell_type": "markdown",
   "metadata": {},
   "source": [
    "### Extract top 5 countries with consistent top suicide rates"
   ]
  },
  {
   "cell_type": "code",
   "execution_count": 1,
   "metadata": {},
   "outputs": [],
   "source": [
    "import pandas as pd"
   ]
  },
  {
   "cell_type": "code",
   "execution_count": 2,
   "metadata": {},
   "outputs": [
    {
     "name": "stdout",
     "output_type": "stream",
     "text": [
      "   SpatialDimensionValueCode  NumericValue\n",
      "0                        GUY      32.01390\n",
      "1                        LTU      29.52678\n",
      "2                        SWZ      28.86874\n",
      "3                        RUS      27.29849\n",
      "4                        LSO      26.06679\n",
      "5                        SWZ      29.85370\n",
      "6                        GUY      29.04904\n",
      "7                        KOR      28.28214\n",
      "8                        LSO      27.88441\n",
      "9                        LTU      27.40435\n",
      "10                       LSO      28.76971\n",
      "11                       KOR      28.44276\n",
      "12                       SWZ      28.12621\n",
      "13                       GUY      27.63678\n",
      "14                       LTU      26.32802\n",
      "15                       LSO      33.37877\n",
      "16                       GUY      29.53009\n",
      "17                       SUR      28.46851\n",
      "18                       KOR      27.15565\n",
      "19                       LTU      24.51666\n",
      "20                       LSO      28.66132\n",
      "21                       KOR      27.52970\n",
      "22                       SWZ      27.22724\n",
      "23                       GUY      24.78290\n",
      "24                       URY      24.75191\n",
      "['GUY', 'LSO', 'SWZ', 'LTU', 'KOR']\n",
      "['Guyana', 'Republic of Korea', 'Lesotho', 'Lithuania', 'Eswatini']\n",
      "The following are top 5 countries with the most frequent & highest suicide rate in the past 5 years: Guyana, Republic of Korea, Lesotho, Lithuania, Eswatini\n"
     ]
    }
   ],
   "source": [
    "# Load the COUNTRY.csv file\n",
    "df_country = pd.read_csv('data/COUNTRY.csv')\n",
    "\n",
    "# Load csv file\n",
    "df = pd.read_csv('data/SDGSUICIDE_sorted.csv')\n",
    "\n",
    "# Filter out to last 5 years\n",
    "df_last_5y = df[df['TimeDim'].between(2017,2021)]\n",
    "\n",
    "# Group by 'Year' and get the top 5 'SuicideRate' for each year\n",
    "top_5_by_year = df_last_5y.groupby('TimeDim').apply(\n",
    "    lambda x: x.nlargest(5, 'NumericValue'), include_groups=False)\n",
    "top_5_by_year = top_5_by_year.reset_index(drop=True)\n",
    "\n",
    "# Display the results\n",
    "print(top_5_by_year)\n",
    "\n",
    "# Count frequencies\n",
    "frequency_counts = top_5_by_year['SpatialDimensionValueCode'].value_counts()\n",
    "top_5_code = frequency_counts.nlargest(5).index.tolist()\n",
    "\n",
    "print(top_5_code)\n",
    "top_5_countries = df_country[df_country['Code'].isin(top_5_code)]['Title'].tolist()\n",
    "\n",
    "print(top_5_countries)\n",
    "\n",
    "print(f\"The following are top 5 countries with the most frequent & highest suicide rate in the past 5 years: {', '.join(top_5_countries)}\")\n"
   ]
  }
 ],
 "metadata": {
  "kernelspec": {
   "display_name": "Python 3",
   "language": "python",
   "name": "python3"
  },
  "language_info": {
   "codemirror_mode": {
    "name": "ipython",
    "version": 3
   },
   "file_extension": ".py",
   "mimetype": "text/x-python",
   "name": "python",
   "nbconvert_exporter": "python",
   "pygments_lexer": "ipython3",
   "version": "3.13.2"
  }
 },
 "nbformat": 4,
 "nbformat_minor": 2
}
